{
  "nbformat": 4,
  "nbformat_minor": 0,
  "metadata": {
    "colab": {
      "provenance": []
    },
    "kernelspec": {
      "name": "python3",
      "display_name": "Python 3"
    },
    "language_info": {
      "name": "python"
    }
  },
  "cells": [
    {
      "cell_type": "code",
      "execution_count": 7,
      "metadata": {
        "colab": {
          "base_uri": "https://localhost:8080/"
        },
        "id": "LOL5628x3vI0",
        "outputId": "427cd621-3ca5-414a-d3f4-6c6e9ff83844"
      },
      "outputs": [
        {
          "output_type": "stream",
          "name": "stdout",
          "text": [
            "New created array.2.0 \r\n",
            "4.0 \r\n",
            "6.0 \r\n",
            "8.0 \r\n",
            "10.0 \r\n"
          ]
        }
      ],
      "source": [
        "## creating array\n",
        "import array\n",
        "arr= array.array('d', [2,4,6,8,10,12,14])\n",
        "print(\"New created array.\",end=\"\")\n",
        "for d in range (0,5):\n",
        "  print (arr[d], end=\" \")\n",
        "  print(\"\\r\")\n"
      ]
    },
    {
      "cell_type": "code",
      "source": [
        "#accessing the DataFrame  with boolean index\n",
        "import pandas as pd\n",
        "dict= {\"name\":[\"Puja\",\"Pratik\",\"William\",\"Vijay\"],\n",
        "'age':[\"18\",\"50\",\"22\",\"40\"]}\n",
        "info= pd.DataFrame(dict,index=[True,True,False,True])\n",
        "print(info)"
      ],
      "metadata": {
        "colab": {
          "base_uri": "https://localhost:8080/"
        },
        "id": "RL5stStx51Mo",
        "outputId": "bbe1fb26-c7c3-4470-b73a-5cbc503f2910"
      },
      "execution_count": 16,
      "outputs": [
        {
          "output_type": "stream",
          "name": "stdout",
          "text": [
            "          name age\n",
            "True      Puja  18\n",
            "True    Pratik  50\n",
            "False  William  22\n",
            "True     Vijay  40\n"
          ]
        }
      ]
    },
    {
      "cell_type": "code",
      "source": [
        "#another example on indexing\n",
        "import pandas as pd\n",
        "dict= {\"name\":[\"Puja\",\"Pratik\",\"William\",\"Vijay\"],\n",
        "'age':[\"18\",\"50\",\"40\",\"22\"]}\n",
        "info= pd.DataFrame(dict,index=[True,True,False,False])\n",
        "print(info.loc[True])"
      ],
      "metadata": {
        "colab": {
          "base_uri": "https://localhost:8080/"
        },
        "id": "bISa9mVr8Z5C",
        "outputId": "923bcb01-0b8f-46b2-872d-b1910c4ba674"
      },
      "execution_count": 18,
      "outputs": [
        {
          "output_type": "stream",
          "name": "stdout",
          "text": [
            "        name age\n",
            "True    Puja  18\n",
            "True  Pratik  50\n"
          ]
        }
      ]
    },
    {
      "cell_type": "code",
      "source": [
        "#reshaping arrays\n",
        "import numpy as np\n",
        "arr= np.arange(16)\n",
        "print(\"The original array is: \\n\",arr)\n",
        "arr= np.arange(16).reshape(2,8)\n",
        "print(\"\\nreshaped array: \\n\",arr)\n",
        "arr = np.arange(16).reshape(8,2)\n",
        "print(\"\\nreshaped array: \\n\",arr)"
      ],
      "metadata": {
        "colab": {
          "base_uri": "https://localhost:8080/"
        },
        "id": "1_lMXpai-B42",
        "outputId": "ea6389ea-cfbd-470f-8bdd-79ff7514932e"
      },
      "execution_count": 22,
      "outputs": [
        {
          "output_type": "stream",
          "name": "stdout",
          "text": [
            "The original array is: \n",
            " [ 0  1  2  3  4  5  6  7  8  9 10 11 12 13 14 15]\n",
            "\n",
            "reshaped array: \n",
            " [[ 0  1  2  3  4  5  6  7]\n",
            " [ 8  9 10 11 12 13 14 15]]\n",
            "\n",
            "reshaped array: \n",
            " [[ 0  1]\n",
            " [ 2  3]\n",
            " [ 4  5]\n",
            " [ 6  7]\n",
            " [ 8  9]\n",
            " [10 11]\n",
            " [12 13]\n",
            " [14 15]]\n"
          ]
        }
      ]
    }
  ]
}